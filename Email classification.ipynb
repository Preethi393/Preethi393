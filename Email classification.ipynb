{
 "cells": [
  {
   "cell_type": "code",
   "execution_count": 1,
   "id": "caf0275b",
   "metadata": {
    "ExecuteTime": {
     "end_time": "2021-10-11T13:16:16.471127Z",
     "start_time": "2021-10-11T13:16:01.664592Z"
    }
   },
   "outputs": [],
   "source": [
    "import pandas as pd\n",
    "import numpy as np\n",
    "import string \n",
    "import spacy \n",
    "from matplotlib.pyplot import imread\n",
    "from matplotlib import pyplot as plt\n",
    "from wordcloud import WordCloud\n",
    "%matplotlib inline"
   ]
  },
  {
   "cell_type": "markdown",
   "id": "155da171",
   "metadata": {},
   "source": [
    "# EDA"
   ]
  },
  {
   "cell_type": "code",
   "execution_count": 2,
   "id": "738808d9",
   "metadata": {
    "ExecuteTime": {
     "end_time": "2021-10-11T13:16:18.315996Z",
     "start_time": "2021-10-11T13:16:16.471127Z"
    }
   },
   "outputs": [
    {
     "data": {
      "text/html": [
       "<div>\n",
       "<style scoped>\n",
       "    .dataframe tbody tr th:only-of-type {\n",
       "        vertical-align: middle;\n",
       "    }\n",
       "\n",
       "    .dataframe tbody tr th {\n",
       "        vertical-align: top;\n",
       "    }\n",
       "\n",
       "    .dataframe thead th {\n",
       "        text-align: right;\n",
       "    }\n",
       "</style>\n",
       "<table border=\"1\" class=\"dataframe\">\n",
       "  <thead>\n",
       "    <tr style=\"text-align: right;\">\n",
       "      <th></th>\n",
       "      <th>Unnamed: 0</th>\n",
       "      <th>filename</th>\n",
       "      <th>Message-ID</th>\n",
       "      <th>content</th>\n",
       "      <th>Class</th>\n",
       "    </tr>\n",
       "  </thead>\n",
       "  <tbody>\n",
       "    <tr>\n",
       "      <th>0</th>\n",
       "      <td>0</td>\n",
       "      <td>arnold-j/_sent_mail/34.</td>\n",
       "      <td>&lt;15267340.1075857594923.JavaMail.evans@thyme&gt;</td>\n",
       "      <td>eat shit\\n\\n\\n\\n\\nJohn J Lavorato@excelr\\n11/1...</td>\n",
       "      <td>Abusive</td>\n",
       "    </tr>\n",
       "    <tr>\n",
       "      <th>1</th>\n",
       "      <td>1</td>\n",
       "      <td>arnold-j/_sent_mail/517.</td>\n",
       "      <td>&lt;15539583.1075857652152.JavaMail.evans@thyme&gt;</td>\n",
       "      <td>fuck you</td>\n",
       "      <td>Abusive</td>\n",
       "    </tr>\n",
       "    <tr>\n",
       "      <th>2</th>\n",
       "      <td>2</td>\n",
       "      <td>arnold-j/_sent_mail/743.</td>\n",
       "      <td>&lt;4339799.1075857657711.JavaMail.evans@thyme&gt;</td>\n",
       "      <td>Gentlemen:\\nThe following champagne is availab...</td>\n",
       "      <td>Abusive</td>\n",
       "    </tr>\n",
       "    <tr>\n",
       "      <th>3</th>\n",
       "      <td>3</td>\n",
       "      <td>arnold-j/_sent_mail/766.</td>\n",
       "      <td>&lt;25574783.1075857658215.JavaMail.evans@thyme&gt;</td>\n",
       "      <td>sorry i've taken so long...just been trying to...</td>\n",
       "      <td>Abusive</td>\n",
       "    </tr>\n",
       "    <tr>\n",
       "      <th>4</th>\n",
       "      <td>4</td>\n",
       "      <td>arnold-j/_sent_mail/797.</td>\n",
       "      <td>&lt;19506151.1075857658895.JavaMail.evans@thyme&gt;</td>\n",
       "      <td>asshole\\n\\n\\n\\n\\nJohn J Lavorato@excelr\\n12/23...</td>\n",
       "      <td>Abusive</td>\n",
       "    </tr>\n",
       "  </tbody>\n",
       "</table>\n",
       "</div>"
      ],
      "text/plain": [
       "   Unnamed: 0                  filename  \\\n",
       "0           0   arnold-j/_sent_mail/34.   \n",
       "1           1  arnold-j/_sent_mail/517.   \n",
       "2           2  arnold-j/_sent_mail/743.   \n",
       "3           3  arnold-j/_sent_mail/766.   \n",
       "4           4  arnold-j/_sent_mail/797.   \n",
       "\n",
       "                                      Message-ID  \\\n",
       "0  <15267340.1075857594923.JavaMail.evans@thyme>   \n",
       "1  <15539583.1075857652152.JavaMail.evans@thyme>   \n",
       "2   <4339799.1075857657711.JavaMail.evans@thyme>   \n",
       "3  <25574783.1075857658215.JavaMail.evans@thyme>   \n",
       "4  <19506151.1075857658895.JavaMail.evans@thyme>   \n",
       "\n",
       "                                             content    Class  \n",
       "0  eat shit\\n\\n\\n\\n\\nJohn J Lavorato@excelr\\n11/1...  Abusive  \n",
       "1                                           fuck you  Abusive  \n",
       "2  Gentlemen:\\nThe following champagne is availab...  Abusive  \n",
       "3  sorry i've taken so long...just been trying to...  Abusive  \n",
       "4  asshole\\n\\n\\n\\n\\nJohn J Lavorato@excelr\\n12/23...  Abusive  "
      ]
     },
     "execution_count": 2,
     "metadata": {},
     "output_type": "execute_result"
    }
   ],
   "source": [
    "email=pd.read_csv(\"emails1\")\n",
    "email.head()"
   ]
  },
  {
   "cell_type": "code",
   "execution_count": 3,
   "id": "74dcb08c",
   "metadata": {
    "ExecuteTime": {
     "end_time": "2021-10-11T13:16:18.334226Z",
     "start_time": "2021-10-11T13:16:18.319590Z"
    }
   },
   "outputs": [
    {
     "data": {
      "text/html": [
       "<div>\n",
       "<style scoped>\n",
       "    .dataframe tbody tr th:only-of-type {\n",
       "        vertical-align: middle;\n",
       "    }\n",
       "\n",
       "    .dataframe tbody tr th {\n",
       "        vertical-align: top;\n",
       "    }\n",
       "\n",
       "    .dataframe thead th {\n",
       "        text-align: right;\n",
       "    }\n",
       "</style>\n",
       "<table border=\"1\" class=\"dataframe\">\n",
       "  <thead>\n",
       "    <tr style=\"text-align: right;\">\n",
       "      <th></th>\n",
       "      <th>Unnamed: 0</th>\n",
       "      <th>filename</th>\n",
       "      <th>Message-ID</th>\n",
       "      <th>content</th>\n",
       "      <th>Class</th>\n",
       "    </tr>\n",
       "  </thead>\n",
       "  <tbody>\n",
       "    <tr>\n",
       "      <th>48071</th>\n",
       "      <td>48071</td>\n",
       "      <td>campbell-l/notes_inbox/133.</td>\n",
       "      <td>&lt;6503484.1075857876489.JavaMail.evans@thyme&gt;</td>\n",
       "      <td>Dear Market Participants,\\n\\nPlease note the c...</td>\n",
       "      <td>Non Abusive</td>\n",
       "    </tr>\n",
       "    <tr>\n",
       "      <th>48072</th>\n",
       "      <td>48072</td>\n",
       "      <td>campbell-l/notes_inbox/134.</td>\n",
       "      <td>&lt;17277180.1075857876513.JavaMail.evans@thyme&gt;</td>\n",
       "      <td>According to my fancy ciphering we made $310,0...</td>\n",
       "      <td>Non Abusive</td>\n",
       "    </tr>\n",
       "    <tr>\n",
       "      <th>48073</th>\n",
       "      <td>48073</td>\n",
       "      <td>campbell-l/notes_inbox/135.</td>\n",
       "      <td>&lt;31066400.1075857876537.JavaMail.evans@thyme&gt;</td>\n",
       "      <td>BUSINESS HIGHLIGHTS\\n\\nWeather Group\\n\\nLet=01...</td>\n",
       "      <td>Non Abusive</td>\n",
       "    </tr>\n",
       "    <tr>\n",
       "      <th>48074</th>\n",
       "      <td>48074</td>\n",
       "      <td>campbell-l/notes_inbox/136.</td>\n",
       "      <td>&lt;26024436.1075857876659.JavaMail.evans@thyme&gt;</td>\n",
       "      <td>Welcome to: DIAMONDS NEWSLETTER         Issue:...</td>\n",
       "      <td>Non Abusive</td>\n",
       "    </tr>\n",
       "    <tr>\n",
       "      <th>48075</th>\n",
       "      <td>48075</td>\n",
       "      <td>campbell-l/notes_inbox/137.</td>\n",
       "      <td>&lt;10677824.1075857876692.JavaMail.evans@thyme&gt;</td>\n",
       "      <td>---------------------- Forwarded by Tamara Jae...</td>\n",
       "      <td>Non Abusive</td>\n",
       "    </tr>\n",
       "  </tbody>\n",
       "</table>\n",
       "</div>"
      ],
      "text/plain": [
       "       Unnamed: 0                     filename  \\\n",
       "48071       48071  campbell-l/notes_inbox/133.   \n",
       "48072       48072  campbell-l/notes_inbox/134.   \n",
       "48073       48073  campbell-l/notes_inbox/135.   \n",
       "48074       48074  campbell-l/notes_inbox/136.   \n",
       "48075       48075  campbell-l/notes_inbox/137.   \n",
       "\n",
       "                                          Message-ID  \\\n",
       "48071   <6503484.1075857876489.JavaMail.evans@thyme>   \n",
       "48072  <17277180.1075857876513.JavaMail.evans@thyme>   \n",
       "48073  <31066400.1075857876537.JavaMail.evans@thyme>   \n",
       "48074  <26024436.1075857876659.JavaMail.evans@thyme>   \n",
       "48075  <10677824.1075857876692.JavaMail.evans@thyme>   \n",
       "\n",
       "                                                 content        Class  \n",
       "48071  Dear Market Participants,\\n\\nPlease note the c...  Non Abusive  \n",
       "48072  According to my fancy ciphering we made $310,0...  Non Abusive  \n",
       "48073  BUSINESS HIGHLIGHTS\\n\\nWeather Group\\n\\nLet=01...  Non Abusive  \n",
       "48074  Welcome to: DIAMONDS NEWSLETTER         Issue:...  Non Abusive  \n",
       "48075  ---------------------- Forwarded by Tamara Jae...  Non Abusive  "
      ]
     },
     "execution_count": 3,
     "metadata": {},
     "output_type": "execute_result"
    }
   ],
   "source": [
    "email.tail()"
   ]
  },
  {
   "cell_type": "code",
   "execution_count": 4,
   "id": "f0e215cd",
   "metadata": {
    "ExecuteTime": {
     "end_time": "2021-10-11T13:16:18.342276Z",
     "start_time": "2021-10-11T13:16:18.336742Z"
    }
   },
   "outputs": [
    {
     "data": {
      "text/plain": [
       "pandas.core.frame.DataFrame"
      ]
     },
     "execution_count": 4,
     "metadata": {},
     "output_type": "execute_result"
    }
   ],
   "source": [
    "# Data Structure\n",
    "type(email)"
   ]
  },
  {
   "cell_type": "code",
   "execution_count": 5,
   "id": "433aab14",
   "metadata": {
    "ExecuteTime": {
     "end_time": "2021-10-11T13:16:18.365723Z",
     "start_time": "2021-10-11T13:16:18.352020Z"
    }
   },
   "outputs": [
    {
     "data": {
      "text/plain": [
       "(48076, 5)"
      ]
     },
     "execution_count": 5,
     "metadata": {},
     "output_type": "execute_result"
    }
   ],
   "source": [
    "email.shape"
   ]
  },
  {
   "cell_type": "code",
   "execution_count": 6,
   "id": "54f379e5",
   "metadata": {
    "ExecuteTime": {
     "end_time": "2021-10-11T13:16:18.380346Z",
     "start_time": "2021-10-11T13:16:18.367749Z"
    }
   },
   "outputs": [
    {
     "data": {
      "text/plain": [
       "Unnamed: 0     int64\n",
       "filename      object\n",
       "Message-ID    object\n",
       "content       object\n",
       "Class         object\n",
       "dtype: object"
      ]
     },
     "execution_count": 6,
     "metadata": {},
     "output_type": "execute_result"
    }
   ],
   "source": [
    "# Datatypes\n",
    "email.dtypes"
   ]
  },
  {
   "cell_type": "markdown",
   "id": "8cbbad0c",
   "metadata": {},
   "source": [
    "# Datatype Conversion"
   ]
  },
  {
   "cell_type": "code",
   "execution_count": 7,
   "id": "60cb9d19",
   "metadata": {
    "ExecuteTime": {
     "end_time": "2021-10-11T13:16:18.428951Z",
     "start_time": "2021-10-11T13:16:18.382978Z"
    }
   },
   "outputs": [
    {
     "name": "stdout",
     "output_type": "stream",
     "text": [
      "<class 'pandas.core.frame.DataFrame'>\n",
      "RangeIndex: 48076 entries, 0 to 48075\n",
      "Data columns (total 5 columns):\n",
      " #   Column      Non-Null Count  Dtype \n",
      "---  ------      --------------  ----- \n",
      " 0   Unnamed: 0  48076 non-null  int64 \n",
      " 1   filename    48076 non-null  object\n",
      " 2   Message-ID  48076 non-null  object\n",
      " 3   content     48076 non-null  object\n",
      " 4   Class       48076 non-null  object\n",
      "dtypes: int64(1), object(4)\n",
      "memory usage: 1.8+ MB\n"
     ]
    }
   ],
   "source": [
    "email.info()"
   ]
  },
  {
   "cell_type": "code",
   "execution_count": 8,
   "id": "cf3b16bb",
   "metadata": {
    "ExecuteTime": {
     "end_time": "2021-10-11T13:16:18.446999Z",
     "start_time": "2021-10-11T13:16:18.436656Z"
    }
   },
   "outputs": [],
   "source": [
    "email.drop(columns=['Unnamed: 0','filename','Message-ID'], inplace=True)"
   ]
  },
  {
   "cell_type": "code",
   "execution_count": 9,
   "id": "84fd8bee",
   "metadata": {
    "ExecuteTime": {
     "end_time": "2021-10-11T13:16:18.480427Z",
     "start_time": "2021-10-11T13:16:18.453099Z"
    }
   },
   "outputs": [
    {
     "data": {
      "text/html": [
       "<div>\n",
       "<style scoped>\n",
       "    .dataframe tbody tr th:only-of-type {\n",
       "        vertical-align: middle;\n",
       "    }\n",
       "\n",
       "    .dataframe tbody tr th {\n",
       "        vertical-align: top;\n",
       "    }\n",
       "\n",
       "    .dataframe thead th {\n",
       "        text-align: right;\n",
       "    }\n",
       "</style>\n",
       "<table border=\"1\" class=\"dataframe\">\n",
       "  <thead>\n",
       "    <tr style=\"text-align: right;\">\n",
       "      <th></th>\n",
       "      <th>content</th>\n",
       "      <th>Class</th>\n",
       "    </tr>\n",
       "  </thead>\n",
       "  <tbody>\n",
       "    <tr>\n",
       "      <th>0</th>\n",
       "      <td>eat shit\\n\\n\\n\\n\\nJohn J Lavorato@excelr\\n11/1...</td>\n",
       "      <td>Abusive</td>\n",
       "    </tr>\n",
       "    <tr>\n",
       "      <th>1</th>\n",
       "      <td>fuck you</td>\n",
       "      <td>Abusive</td>\n",
       "    </tr>\n",
       "    <tr>\n",
       "      <th>2</th>\n",
       "      <td>Gentlemen:\\nThe following champagne is availab...</td>\n",
       "      <td>Abusive</td>\n",
       "    </tr>\n",
       "    <tr>\n",
       "      <th>3</th>\n",
       "      <td>sorry i've taken so long...just been trying to...</td>\n",
       "      <td>Abusive</td>\n",
       "    </tr>\n",
       "    <tr>\n",
       "      <th>4</th>\n",
       "      <td>asshole\\n\\n\\n\\n\\nJohn J Lavorato@excelr\\n12/23...</td>\n",
       "      <td>Abusive</td>\n",
       "    </tr>\n",
       "  </tbody>\n",
       "</table>\n",
       "</div>"
      ],
      "text/plain": [
       "                                             content    Class\n",
       "0  eat shit\\n\\n\\n\\n\\nJohn J Lavorato@excelr\\n11/1...  Abusive\n",
       "1                                           fuck you  Abusive\n",
       "2  Gentlemen:\\nThe following champagne is availab...  Abusive\n",
       "3  sorry i've taken so long...just been trying to...  Abusive\n",
       "4  asshole\\n\\n\\n\\n\\nJohn J Lavorato@excelr\\n12/23...  Abusive"
      ]
     },
     "execution_count": 9,
     "metadata": {},
     "output_type": "execute_result"
    }
   ],
   "source": [
    "email.head()"
   ]
  },
  {
   "cell_type": "code",
   "execution_count": 10,
   "id": "639651e5",
   "metadata": {
    "ExecuteTime": {
     "end_time": "2021-10-11T13:16:18.507037Z",
     "start_time": "2021-10-11T13:16:18.484310Z"
    }
   },
   "outputs": [
    {
     "data": {
      "text/plain": [
       "content    0\n",
       "Class      0\n",
       "dtype: int64"
      ]
     },
     "execution_count": 10,
     "metadata": {},
     "output_type": "execute_result"
    }
   ],
   "source": [
    "# Checking for null values\n",
    "email.isnull().sum()"
   ]
  },
  {
   "cell_type": "code",
   "execution_count": 11,
   "id": "bf4e1db2",
   "metadata": {
    "ExecuteTime": {
     "end_time": "2021-10-11T13:16:18.916984Z",
     "start_time": "2021-10-11T13:16:18.508332Z"
    }
   },
   "outputs": [
    {
     "data": {
      "text/plain": [
       "(23420, 2)"
      ]
     },
     "execution_count": 11,
     "metadata": {},
     "output_type": "execute_result"
    }
   ],
   "source": [
    "# Count of duplicated rows\n",
    "email[email.duplicated()].shape"
   ]
  },
  {
   "cell_type": "code",
   "execution_count": 12,
   "id": "88d6f6db",
   "metadata": {
    "ExecuteTime": {
     "end_time": "2021-10-11T13:16:19.328653Z",
     "start_time": "2021-10-11T13:16:18.920538Z"
    }
   },
   "outputs": [
    {
     "data": {
      "text/plain": [
       "23420"
      ]
     },
     "execution_count": 12,
     "metadata": {},
     "output_type": "execute_result"
    }
   ],
   "source": [
    "email.duplicated().sum()"
   ]
  },
  {
   "cell_type": "code",
   "execution_count": 13,
   "id": "706cf96e",
   "metadata": {
    "ExecuteTime": {
     "end_time": "2021-10-11T13:16:19.730723Z",
     "start_time": "2021-10-11T13:16:19.332889Z"
    }
   },
   "outputs": [],
   "source": [
    "email.drop_duplicates(keep='first',inplace= True)"
   ]
  },
  {
   "cell_type": "code",
   "execution_count": 14,
   "id": "5080f032",
   "metadata": {
    "ExecuteTime": {
     "end_time": "2021-10-11T13:16:19.992562Z",
     "start_time": "2021-10-11T13:16:19.734863Z"
    }
   },
   "outputs": [
    {
     "data": {
      "text/plain": [
       "0"
      ]
     },
     "execution_count": 14,
     "metadata": {},
     "output_type": "execute_result"
    }
   ],
   "source": [
    "email.duplicated().sum()"
   ]
  },
  {
   "cell_type": "code",
   "execution_count": 15,
   "id": "0dbf41dd",
   "metadata": {
    "ExecuteTime": {
     "end_time": "2021-10-11T13:16:20.015950Z",
     "start_time": "2021-10-11T13:16:19.995721Z"
    }
   },
   "outputs": [
    {
     "data": {
      "text/plain": [
       "Non Abusive    23014\n",
       "Abusive         1642\n",
       "Name: Class, dtype: int64"
      ]
     },
     "execution_count": 15,
     "metadata": {},
     "output_type": "execute_result"
    }
   ],
   "source": [
    "email.Class.value_counts()"
   ]
  },
  {
   "cell_type": "markdown",
   "id": "9c540661",
   "metadata": {},
   "source": [
    "# Data Preprocessing"
   ]
  },
  {
   "cell_type": "code",
   "execution_count": 16,
   "id": "eea14ce6",
   "metadata": {
    "ExecuteTime": {
     "end_time": "2021-10-11T13:16:22.861702Z",
     "start_time": "2021-10-11T13:16:20.017478Z"
    }
   },
   "outputs": [],
   "source": [
    "from sklearn.preprocessing import LabelEncoder\n",
    "encoder = LabelEncoder()"
   ]
  },
  {
   "cell_type": "code",
   "execution_count": 17,
   "id": "48c95f89",
   "metadata": {
    "ExecuteTime": {
     "end_time": "2021-10-11T13:16:22.908937Z",
     "start_time": "2021-10-11T13:16:22.861702Z"
    }
   },
   "outputs": [
    {
     "data": {
      "text/html": [
       "<div>\n",
       "<style scoped>\n",
       "    .dataframe tbody tr th:only-of-type {\n",
       "        vertical-align: middle;\n",
       "    }\n",
       "\n",
       "    .dataframe tbody tr th {\n",
       "        vertical-align: top;\n",
       "    }\n",
       "\n",
       "    .dataframe thead th {\n",
       "        text-align: right;\n",
       "    }\n",
       "</style>\n",
       "<table border=\"1\" class=\"dataframe\">\n",
       "  <thead>\n",
       "    <tr style=\"text-align: right;\">\n",
       "      <th></th>\n",
       "      <th>content</th>\n",
       "      <th>Class</th>\n",
       "    </tr>\n",
       "  </thead>\n",
       "  <tbody>\n",
       "    <tr>\n",
       "      <th>0</th>\n",
       "      <td>eat shit\\n\\n\\n\\n\\nJohn J Lavorato@excelr\\n11/1...</td>\n",
       "      <td>0</td>\n",
       "    </tr>\n",
       "    <tr>\n",
       "      <th>1</th>\n",
       "      <td>fuck you</td>\n",
       "      <td>0</td>\n",
       "    </tr>\n",
       "    <tr>\n",
       "      <th>2</th>\n",
       "      <td>Gentlemen:\\nThe following champagne is availab...</td>\n",
       "      <td>0</td>\n",
       "    </tr>\n",
       "    <tr>\n",
       "      <th>3</th>\n",
       "      <td>sorry i've taken so long...just been trying to...</td>\n",
       "      <td>0</td>\n",
       "    </tr>\n",
       "    <tr>\n",
       "      <th>4</th>\n",
       "      <td>asshole\\n\\n\\n\\n\\nJohn J Lavorato@excelr\\n12/23...</td>\n",
       "      <td>0</td>\n",
       "    </tr>\n",
       "    <tr>\n",
       "      <th>...</th>\n",
       "      <td>...</td>\n",
       "      <td>...</td>\n",
       "    </tr>\n",
       "    <tr>\n",
       "      <th>47974</th>\n",
       "      <td>Do you need new leads for your business ?\\n D...</td>\n",
       "      <td>1</td>\n",
       "    </tr>\n",
       "    <tr>\n",
       "      <th>47975</th>\n",
       "      <td>[IMAGE]\\n  [IMAGE]     [IMAGE] GARTH BROOKS  \"...</td>\n",
       "      <td>1</td>\n",
       "    </tr>\n",
       "    <tr>\n",
       "      <th>47977</th>\n",
       "      <td>\\n[IMAGE][IMAGE][IMAGE] \\nDear SmartReminders ...</td>\n",
       "      <td>1</td>\n",
       "    </tr>\n",
       "    <tr>\n",
       "      <th>47980</th>\n",
       "      <td>\\n[IMAGE]\\n  [IMAGE]   [IMAGE]    [IMAGE] KID ...</td>\n",
       "      <td>1</td>\n",
       "    </tr>\n",
       "    <tr>\n",
       "      <th>47981</th>\n",
       "      <td>\\nYou received this e-mail because you registe...</td>\n",
       "      <td>1</td>\n",
       "    </tr>\n",
       "  </tbody>\n",
       "</table>\n",
       "<p>24656 rows × 2 columns</p>\n",
       "</div>"
      ],
      "text/plain": [
       "                                                 content  Class\n",
       "0      eat shit\\n\\n\\n\\n\\nJohn J Lavorato@excelr\\n11/1...      0\n",
       "1                                               fuck you      0\n",
       "2      Gentlemen:\\nThe following champagne is availab...      0\n",
       "3      sorry i've taken so long...just been trying to...      0\n",
       "4      asshole\\n\\n\\n\\n\\nJohn J Lavorato@excelr\\n12/23...      0\n",
       "...                                                  ...    ...\n",
       "47974   Do you need new leads for your business ?\\n D...      1\n",
       "47975  [IMAGE]\\n  [IMAGE]     [IMAGE] GARTH BROOKS  \"...      1\n",
       "47977  \\n[IMAGE][IMAGE][IMAGE] \\nDear SmartReminders ...      1\n",
       "47980  \\n[IMAGE]\\n  [IMAGE]   [IMAGE]    [IMAGE] KID ...      1\n",
       "47981  \\nYou received this e-mail because you registe...      1\n",
       "\n",
       "[24656 rows x 2 columns]"
      ]
     },
     "execution_count": 17,
     "metadata": {},
     "output_type": "execute_result"
    }
   ],
   "source": [
    "email['Class'] = encoder.fit_transform(email['Class'])\n",
    "email"
   ]
  },
  {
   "cell_type": "code",
   "execution_count": 18,
   "id": "d31a82c0",
   "metadata": {
    "ExecuteTime": {
     "end_time": "2021-10-11T13:16:23.146771Z",
     "start_time": "2021-10-11T13:16:22.912904Z"
    }
   },
   "outputs": [
    {
     "data": {
      "image/png": "[encoded data removed]",
      "text/plain": [
       "<Figure size 432x288 with 1 Axes>"
      ]
     },
     "metadata": {},
     "output_type": "display_data"
    }
   ],
   "source": [
    "plt.pie(email['Class'].value_counts(),labels=['Abusive','Non Abusive'],autopct='%0.2f')\n",
    "plt.show()"
   ]
  },
  {
   "cell_type": "markdown",
   "id": "b4e4c706",
   "metadata": {},
   "source": [
    "Data is imbalanced"
   ]
  },
  {
   "cell_type": "code",
   "execution_count": 19,
   "id": "1f4f196b",
   "metadata": {
    "ExecuteTime": {
     "end_time": "2021-10-11T13:16:24.979878Z",
     "start_time": "2021-10-11T13:16:23.147767Z"
    }
   },
   "outputs": [
    {
     "name": "stderr",
     "output_type": "stream",
     "text": [
      "[nltk_data] Downloading package punkt to\n",
      "[nltk_data]     C:\\Users\\Lenovo\\AppData\\Roaming\\nltk_data...\n",
      "[nltk_data]   Package punkt is already up-to-date!\n"
     ]
    },
    {
     "data": {
      "text/plain": [
       "True"
      ]
     },
     "execution_count": 19,
     "metadata": {},
     "output_type": "execute_result"
    }
   ],
   "source": [
    "import nltk\n",
    "nltk.download(\"punkt\")"
   ]
  },
  {
   "cell_type": "code",
   "execution_count": 20,
   "id": "a0e313f0",
   "metadata": {
    "ExecuteTime": {
     "end_time": "2021-10-11T13:16:25.022183Z",
     "start_time": "2021-10-11T13:16:24.984101Z"
    }
   },
   "outputs": [
    {
     "data": {
      "text/html": [
       "<div>\n",
       "<style scoped>\n",
       "    .dataframe tbody tr th:only-of-type {\n",
       "        vertical-align: middle;\n",
       "    }\n",
       "\n",
       "    .dataframe tbody tr th {\n",
       "        vertical-align: top;\n",
       "    }\n",
       "\n",
       "    .dataframe thead th {\n",
       "        text-align: right;\n",
       "    }\n",
       "</style>\n",
       "<table border=\"1\" class=\"dataframe\">\n",
       "  <thead>\n",
       "    <tr style=\"text-align: right;\">\n",
       "      <th></th>\n",
       "      <th>content</th>\n",
       "      <th>Class</th>\n",
       "      <th>Char_length</th>\n",
       "    </tr>\n",
       "  </thead>\n",
       "  <tbody>\n",
       "    <tr>\n",
       "      <th>0</th>\n",
       "      <td>eat shit\\n\\n\\n\\n\\nJohn J Lavorato@excelr\\n11/1...</td>\n",
       "      <td>0</td>\n",
       "      <td>220</td>\n",
       "    </tr>\n",
       "    <tr>\n",
       "      <th>1</th>\n",
       "      <td>fuck you</td>\n",
       "      <td>0</td>\n",
       "      <td>8</td>\n",
       "    </tr>\n",
       "    <tr>\n",
       "      <th>2</th>\n",
       "      <td>Gentlemen:\\nThe following champagne is availab...</td>\n",
       "      <td>0</td>\n",
       "      <td>612</td>\n",
       "    </tr>\n",
       "    <tr>\n",
       "      <th>3</th>\n",
       "      <td>sorry i've taken so long...just been trying to...</td>\n",
       "      <td>0</td>\n",
       "      <td>505</td>\n",
       "    </tr>\n",
       "    <tr>\n",
       "      <th>4</th>\n",
       "      <td>asshole\\n\\n\\n\\n\\nJohn J Lavorato@excelr\\n12/23...</td>\n",
       "      <td>0</td>\n",
       "      <td>203</td>\n",
       "    </tr>\n",
       "  </tbody>\n",
       "</table>\n",
       "</div>"
      ],
      "text/plain": [
       "                                             content  Class  Char_length\n",
       "0  eat shit\\n\\n\\n\\n\\nJohn J Lavorato@excelr\\n11/1...      0          220\n",
       "1                                           fuck you      0            8\n",
       "2  Gentlemen:\\nThe following champagne is availab...      0          612\n",
       "3  sorry i've taken so long...just been trying to...      0          505\n",
       "4  asshole\\n\\n\\n\\n\\nJohn J Lavorato@excelr\\n12/23...      0          203"
      ]
     },
     "execution_count": 20,
     "metadata": {},
     "output_type": "execute_result"
    }
   ],
   "source": [
    "# To check number of characters in the content of the email\n",
    "email['Char_length']= email['content'].apply(len)\n",
    "email.head()"
   ]
  },
  {
   "cell_type": "code",
   "execution_count": 21,
   "id": "c2ef3d16",
   "metadata": {
    "ExecuteTime": {
     "end_time": "2021-10-11T13:18:43.108030Z",
     "start_time": "2021-10-11T13:16:25.025163Z"
    }
   },
   "outputs": [
    {
     "data": {
      "text/html": [
       "<div>\n",
       "<style scoped>\n",
       "    .dataframe tbody tr th:only-of-type {\n",
       "        vertical-align: middle;\n",
       "    }\n",
       "\n",
       "    .dataframe tbody tr th {\n",
       "        vertical-align: top;\n",
       "    }\n",
       "\n",
       "    .dataframe thead th {\n",
       "        text-align: right;\n",
       "    }\n",
       "</style>\n",
       "<table border=\"1\" class=\"dataframe\">\n",
       "  <thead>\n",
       "    <tr style=\"text-align: right;\">\n",
       "      <th></th>\n",
       "      <th>content</th>\n",
       "      <th>Class</th>\n",
       "      <th>Char_length</th>\n",
       "      <th>Word_count</th>\n",
       "    </tr>\n",
       "  </thead>\n",
       "  <tbody>\n",
       "    <tr>\n",
       "      <th>0</th>\n",
       "      <td>eat shit\\n\\n\\n\\n\\nJohn J Lavorato@excelr\\n11/1...</td>\n",
       "      <td>0</td>\n",
       "      <td>220</td>\n",
       "      <td>44</td>\n",
       "    </tr>\n",
       "    <tr>\n",
       "      <th>1</th>\n",
       "      <td>fuck you</td>\n",
       "      <td>0</td>\n",
       "      <td>8</td>\n",
       "      <td>2</td>\n",
       "    </tr>\n",
       "    <tr>\n",
       "      <th>2</th>\n",
       "      <td>Gentlemen:\\nThe following champagne is availab...</td>\n",
       "      <td>0</td>\n",
       "      <td>612</td>\n",
       "      <td>99</td>\n",
       "    </tr>\n",
       "    <tr>\n",
       "      <th>3</th>\n",
       "      <td>sorry i've taken so long...just been trying to...</td>\n",
       "      <td>0</td>\n",
       "      <td>505</td>\n",
       "      <td>163</td>\n",
       "    </tr>\n",
       "    <tr>\n",
       "      <th>4</th>\n",
       "      <td>asshole\\n\\n\\n\\n\\nJohn J Lavorato@excelr\\n12/23...</td>\n",
       "      <td>0</td>\n",
       "      <td>203</td>\n",
       "      <td>42</td>\n",
       "    </tr>\n",
       "  </tbody>\n",
       "</table>\n",
       "</div>"
      ],
      "text/plain": [
       "                                             content  Class  Char_length  \\\n",
       "0  eat shit\\n\\n\\n\\n\\nJohn J Lavorato@excelr\\n11/1...      0          220   \n",
       "1                                           fuck you      0            8   \n",
       "2  Gentlemen:\\nThe following champagne is availab...      0          612   \n",
       "3  sorry i've taken so long...just been trying to...      0          505   \n",
       "4  asshole\\n\\n\\n\\n\\nJohn J Lavorato@excelr\\n12/23...      0          203   \n",
       "\n",
       "   Word_count  \n",
       "0          44  \n",
       "1           2  \n",
       "2          99  \n",
       "3         163  \n",
       "4          42  "
      ]
     },
     "execution_count": 21,
     "metadata": {},
     "output_type": "execute_result"
    }
   ],
   "source": [
    "# Word Count\n",
    "email['Word_count'] = email['content'].apply(lambda x:len(nltk.word_tokenize(x)))\n",
    "email.head()"
   ]
  },
  {
   "cell_type": "code",
   "execution_count": 22,
   "id": "8aaec440",
   "metadata": {
    "ExecuteTime": {
     "end_time": "2021-10-11T13:18:43.148177Z",
     "start_time": "2021-10-11T13:18:43.108030Z"
    }
   },
   "outputs": [
    {
     "data": {
      "text/html": [
       "<div>\n",
       "<style scoped>\n",
       "    .dataframe tbody tr th:only-of-type {\n",
       "        vertical-align: middle;\n",
       "    }\n",
       "\n",
       "    .dataframe tbody tr th {\n",
       "        vertical-align: top;\n",
       "    }\n",
       "\n",
       "    .dataframe thead th {\n",
       "        text-align: right;\n",
       "    }\n",
       "</style>\n",
       "<table border=\"1\" class=\"dataframe\">\n",
       "  <thead>\n",
       "    <tr style=\"text-align: right;\">\n",
       "      <th></th>\n",
       "      <th>Char_length</th>\n",
       "      <th>Word_count</th>\n",
       "    </tr>\n",
       "  </thead>\n",
       "  <tbody>\n",
       "    <tr>\n",
       "      <th>count</th>\n",
       "      <td>24656.000000</td>\n",
       "      <td>24656.000000</td>\n",
       "    </tr>\n",
       "    <tr>\n",
       "      <th>mean</th>\n",
       "      <td>1798.708306</td>\n",
       "      <td>340.351882</td>\n",
       "    </tr>\n",
       "    <tr>\n",
       "      <th>std</th>\n",
       "      <td>5394.644531</td>\n",
       "      <td>818.222258</td>\n",
       "    </tr>\n",
       "    <tr>\n",
       "      <th>min</th>\n",
       "      <td>1.000000</td>\n",
       "      <td>1.000000</td>\n",
       "    </tr>\n",
       "    <tr>\n",
       "      <th>25%</th>\n",
       "      <td>264.000000</td>\n",
       "      <td>51.000000</td>\n",
       "    </tr>\n",
       "    <tr>\n",
       "      <th>50%</th>\n",
       "      <td>729.000000</td>\n",
       "      <td>142.000000</td>\n",
       "    </tr>\n",
       "    <tr>\n",
       "      <th>75%</th>\n",
       "      <td>1748.000000</td>\n",
       "      <td>344.000000</td>\n",
       "    </tr>\n",
       "    <tr>\n",
       "      <th>max</th>\n",
       "      <td>272036.000000</td>\n",
       "      <td>32296.000000</td>\n",
       "    </tr>\n",
       "  </tbody>\n",
       "</table>\n",
       "</div>"
      ],
      "text/plain": [
       "         Char_length    Word_count\n",
       "count   24656.000000  24656.000000\n",
       "mean     1798.708306    340.351882\n",
       "std      5394.644531    818.222258\n",
       "min         1.000000      1.000000\n",
       "25%       264.000000     51.000000\n",
       "50%       729.000000    142.000000\n",
       "75%      1748.000000    344.000000\n",
       "max    272036.000000  32296.000000"
      ]
     },
     "execution_count": 22,
     "metadata": {},
     "output_type": "execute_result"
    }
   ],
   "source": [
    "# Describe for Non Abusive emails\n",
    "email[['Char_length','Word_count']].describe()"
   ]
  },
  {
   "cell_type": "code",
   "execution_count": 23,
   "id": "44030c20",
   "metadata": {
    "ExecuteTime": {
     "end_time": "2021-10-11T13:18:43.229642Z",
     "start_time": "2021-10-11T13:18:43.159716Z"
    }
   },
   "outputs": [
    {
     "data": {
      "text/html": [
       "<div>\n",
       "<style scoped>\n",
       "    .dataframe tbody tr th:only-of-type {\n",
       "        vertical-align: middle;\n",
       "    }\n",
       "\n",
       "    .dataframe tbody tr th {\n",
       "        vertical-align: top;\n",
       "    }\n",
       "\n",
       "    .dataframe thead th {\n",
       "        text-align: right;\n",
       "    }\n",
       "</style>\n",
       "<table border=\"1\" class=\"dataframe\">\n",
       "  <thead>\n",
       "    <tr style=\"text-align: right;\">\n",
       "      <th></th>\n",
       "      <th>Char_length</th>\n",
       "      <th>Word_count</th>\n",
       "    </tr>\n",
       "  </thead>\n",
       "  <tbody>\n",
       "    <tr>\n",
       "      <th>count</th>\n",
       "      <td>23014.000000</td>\n",
       "      <td>23014.000000</td>\n",
       "    </tr>\n",
       "    <tr>\n",
       "      <th>mean</th>\n",
       "      <td>1806.440297</td>\n",
       "      <td>340.184496</td>\n",
       "    </tr>\n",
       "    <tr>\n",
       "      <th>std</th>\n",
       "      <td>5532.160062</td>\n",
       "      <td>832.095511</td>\n",
       "    </tr>\n",
       "    <tr>\n",
       "      <th>min</th>\n",
       "      <td>1.000000</td>\n",
       "      <td>1.000000</td>\n",
       "    </tr>\n",
       "    <tr>\n",
       "      <th>25%</th>\n",
       "      <td>271.000000</td>\n",
       "      <td>51.000000</td>\n",
       "    </tr>\n",
       "    <tr>\n",
       "      <th>50%</th>\n",
       "      <td>737.500000</td>\n",
       "      <td>143.000000</td>\n",
       "    </tr>\n",
       "    <tr>\n",
       "      <th>75%</th>\n",
       "      <td>1728.000000</td>\n",
       "      <td>339.000000</td>\n",
       "    </tr>\n",
       "    <tr>\n",
       "      <th>max</th>\n",
       "      <td>272036.000000</td>\n",
       "      <td>32296.000000</td>\n",
       "    </tr>\n",
       "  </tbody>\n",
       "</table>\n",
       "</div>"
      ],
      "text/plain": [
       "         Char_length    Word_count\n",
       "count   23014.000000  23014.000000\n",
       "mean     1806.440297    340.184496\n",
       "std      5532.160062    832.095511\n",
       "min         1.000000      1.000000\n",
       "25%       271.000000     51.000000\n",
       "50%       737.500000    143.000000\n",
       "75%      1728.000000    339.000000\n",
       "max    272036.000000  32296.000000"
      ]
     },
     "execution_count": 23,
     "metadata": {},
     "output_type": "execute_result"
    }
   ],
   "source": [
    "# Non Abusive\n",
    "email[email['Class']==1][['Char_length','Word_count']].describe()"
   ]
  },
  {
   "cell_type": "code",
   "execution_count": 24,
   "id": "cc9a55dd",
   "metadata": {
    "ExecuteTime": {
     "end_time": "2021-10-11T13:18:43.273628Z",
     "start_time": "2021-10-11T13:18:43.234526Z"
    }
   },
   "outputs": [
    {
     "data": {
      "text/html": [
       "<div>\n",
       "<style scoped>\n",
       "    .dataframe tbody tr th:only-of-type {\n",
       "        vertical-align: middle;\n",
       "    }\n",
       "\n",
       "    .dataframe tbody tr th {\n",
       "        vertical-align: top;\n",
       "    }\n",
       "\n",
       "    .dataframe thead th {\n",
       "        text-align: right;\n",
       "    }\n",
       "</style>\n",
       "<table border=\"1\" class=\"dataframe\">\n",
       "  <thead>\n",
       "    <tr style=\"text-align: right;\">\n",
       "      <th></th>\n",
       "      <th>Char_length</th>\n",
       "      <th>Word_count</th>\n",
       "    </tr>\n",
       "  </thead>\n",
       "  <tbody>\n",
       "    <tr>\n",
       "      <th>count</th>\n",
       "      <td>1642.000000</td>\n",
       "      <td>1642.000000</td>\n",
       "    </tr>\n",
       "    <tr>\n",
       "      <th>mean</th>\n",
       "      <td>1690.338002</td>\n",
       "      <td>342.697929</td>\n",
       "    </tr>\n",
       "    <tr>\n",
       "      <th>std</th>\n",
       "      <td>2834.633786</td>\n",
       "      <td>590.602864</td>\n",
       "    </tr>\n",
       "    <tr>\n",
       "      <th>min</th>\n",
       "      <td>5.000000</td>\n",
       "      <td>1.000000</td>\n",
       "    </tr>\n",
       "    <tr>\n",
       "      <th>25%</th>\n",
       "      <td>183.000000</td>\n",
       "      <td>40.250000</td>\n",
       "    </tr>\n",
       "    <tr>\n",
       "      <th>50%</th>\n",
       "      <td>597.500000</td>\n",
       "      <td>123.000000</td>\n",
       "    </tr>\n",
       "    <tr>\n",
       "      <th>75%</th>\n",
       "      <td>2121.000000</td>\n",
       "      <td>434.750000</td>\n",
       "    </tr>\n",
       "    <tr>\n",
       "      <th>max</th>\n",
       "      <td>35528.000000</td>\n",
       "      <td>7112.000000</td>\n",
       "    </tr>\n",
       "  </tbody>\n",
       "</table>\n",
       "</div>"
      ],
      "text/plain": [
       "        Char_length   Word_count\n",
       "count   1642.000000  1642.000000\n",
       "mean    1690.338002   342.697929\n",
       "std     2834.633786   590.602864\n",
       "min        5.000000     1.000000\n",
       "25%      183.000000    40.250000\n",
       "50%      597.500000   123.000000\n",
       "75%     2121.000000   434.750000\n",
       "max    35528.000000  7112.000000"
      ]
     },
     "execution_count": 24,
     "metadata": {},
     "output_type": "execute_result"
    }
   ],
   "source": [
    "# Abusive\n",
    "email[email['Class']==0][['Char_length','Word_count']].describe()"
   ]
  },
  {
   "cell_type": "code",
   "execution_count": 25,
   "id": "d56d7133",
   "metadata": {
    "ExecuteTime": {
     "end_time": "2021-10-11T13:18:44.313783Z",
     "start_time": "2021-10-11T13:18:43.277000Z"
    }
   },
   "outputs": [
    {
     "data": {
      "text/plain": [
       "<AxesSubplot:xlabel='Char_length', ylabel='Count'>"
      ]
     },
     "execution_count": 25,
     "metadata": {},
     "output_type": "execute_result"
    },
    {
     "data": {
      "image/png": "[encoded data removed]",
      "text/plain": [
       "<Figure size 1080x360 with 1 Axes>"
      ]
     },
     "metadata": {
      "needs_background": "light"
     },
     "output_type": "display_data"
    }
   ],
   "source": [
    "import seaborn as sns\n",
    "plt.figure(figsize=(15,5))\n",
    "sns.histplot(email[email['Class']==0]['Char_length'])"
   ]
  },
  {
   "cell_type": "code",
   "execution_count": 26,
   "id": "7ace49c3",
   "metadata": {
    "ExecuteTime": {
     "end_time": "2021-10-11T13:18:53.366207Z",
     "start_time": "2021-10-11T13:18:44.317289Z"
    }
   },
   "outputs": [
    {
     "data": {
      "text/plain": [
       "<AxesSubplot:xlabel='Char_length', ylabel='Count'>"
      ]
     },
     "execution_count": 26,
     "metadata": {},
     "output_type": "execute_result"
    },
    {
     "data": {
      "image/png": "[encoded data removed]",
      "text/plain": [
       "<Figure size 432x288 with 1 Axes>"
      ]
     },
     "metadata": {
      "needs_background": "light"
     },
     "output_type": "display_data"
    }
   ],
   "source": [
    "sns.histplot(email[email['Class']==1]['Char_length'],color='red')"
   ]
  },
  {
   "cell_type": "code",
   "execution_count": 27,
   "id": "1bb4ad38",
   "metadata": {
    "ExecuteTime": {
     "end_time": "2021-10-11T13:18:53.399029Z",
     "start_time": "2021-10-11T13:18:53.370290Z"
    }
   },
   "outputs": [
    {
     "data": {
      "text/html": [
       "<div>\n",
       "<style scoped>\n",
       "    .dataframe tbody tr th:only-of-type {\n",
       "        vertical-align: middle;\n",
       "    }\n",
       "\n",
       "    .dataframe tbody tr th {\n",
       "        vertical-align: top;\n",
       "    }\n",
       "\n",
       "    .dataframe thead th {\n",
       "        text-align: right;\n",
       "    }\n",
       "</style>\n",
       "<table border=\"1\" class=\"dataframe\">\n",
       "  <thead>\n",
       "    <tr style=\"text-align: right;\">\n",
       "      <th></th>\n",
       "      <th>Class</th>\n",
       "      <th>Char_length</th>\n",
       "      <th>Word_count</th>\n",
       "    </tr>\n",
       "  </thead>\n",
       "  <tbody>\n",
       "    <tr>\n",
       "      <th>Class</th>\n",
       "      <td>1.000000</td>\n",
       "      <td>0.005366</td>\n",
       "      <td>-0.000766</td>\n",
       "    </tr>\n",
       "    <tr>\n",
       "      <th>Char_length</th>\n",
       "      <td>0.005366</td>\n",
       "      <td>1.000000</td>\n",
       "      <td>0.834617</td>\n",
       "    </tr>\n",
       "    <tr>\n",
       "      <th>Word_count</th>\n",
       "      <td>-0.000766</td>\n",
       "      <td>0.834617</td>\n",
       "      <td>1.000000</td>\n",
       "    </tr>\n",
       "  </tbody>\n",
       "</table>\n",
       "</div>"
      ],
      "text/plain": [
       "                Class  Char_length  Word_count\n",
       "Class        1.000000     0.005366   -0.000766\n",
       "Char_length  0.005366     1.000000    0.834617\n",
       "Word_count  -0.000766     0.834617    1.000000"
      ]
     },
     "execution_count": 27,
     "metadata": {},
     "output_type": "execute_result"
    }
   ],
   "source": [
    "email.corr()"
   ]
  },
  {
   "cell_type": "code",
   "execution_count": 28,
   "id": "919681ef",
   "metadata": {
    "ExecuteTime": {
     "end_time": "2021-10-11T13:18:53.860024Z",
     "start_time": "2021-10-11T13:18:53.402606Z"
    }
   },
   "outputs": [
    {
     "data": {
      "text/plain": [
       "<AxesSubplot:>"
      ]
     },
     "execution_count": 28,
     "metadata": {},
     "output_type": "execute_result"
    },
    {
     "data": {
      "image/png": "[encoded data removed]",
      "text/plain": [
       "<Figure size 432x288 with 2 Axes>"
      ]
     },
     "metadata": {
      "needs_background": "light"
     },
     "output_type": "display_data"
    }
   ],
   "source": [
    "sns.heatmap(email.corr(),annot=True)"
   ]
  },
  {
   "cell_type": "markdown",
   "id": "8002019b",
   "metadata": {},
   "source": [
    "# TEXT PROCESSING (Clean, Tokenize and Normalise)"
   ]
  },
  {
   "cell_type": "code",
   "execution_count": 29,
   "id": "ba5fcb99",
   "metadata": {
    "ExecuteTime": {
     "end_time": "2021-10-11T13:18:53.973411Z",
     "start_time": "2021-10-11T13:18:53.864234Z"
    }
   },
   "outputs": [
    {
     "name": "stderr",
     "output_type": "stream",
     "text": [
      "[nltk_data] Downloading package stopwords to\n",
      "[nltk_data]     C:\\Users\\Lenovo\\AppData\\Roaming\\nltk_data...\n",
      "[nltk_data]   Package stopwords is already up-to-date!\n",
      "[nltk_data] Downloading package punkt to\n",
      "[nltk_data]     C:\\Users\\Lenovo\\AppData\\Roaming\\nltk_data...\n",
      "[nltk_data]   Package punkt is already up-to-date!\n",
      "[nltk_data] Downloading package wordnet to\n",
      "[nltk_data]     C:\\Users\\Lenovo\\AppData\\Roaming\\nltk_data...\n",
      "[nltk_data]   Package wordnet is already up-to-date!\n"
     ]
    }
   ],
   "source": [
    "import nltk\n",
    "nltk.download('stopwords')\n",
    "nltk.download(['punkt', 'wordnet'])\n",
    "from nltk.corpus import stopwords\n",
    "from nltk.stem.wordnet import WordNetLemmatizer\n",
    "from nltk.tokenize import word_tokenize\n",
    "import re"
   ]
  },
  {
   "cell_type": "code",
   "execution_count": 30,
   "id": "ddcaac7b",
   "metadata": {
    "ExecuteTime": {
     "end_time": "2021-10-11T13:18:54.001799Z",
     "start_time": "2021-10-11T13:18:53.978839Z"
    }
   },
   "outputs": [],
   "source": [
    "STOPWORDS=set(stopwords.words('english'))\n",
    "lemmatizer= WordNetLemmatizer()\n",
    "\n",
    "def tokenize(text):\n",
    "\n",
    "   #1. Normalize the data by converting to lower case and removing punctuations\n",
    "    text = re.sub(r\"[^a-zA-Z]\", \" \", text.lower())\n",
    "    \n",
    "   #2. Tokenizing: split text into words\n",
    "    tokens = word_tokenize(text)\n",
    "    \n",
    "   #3. Remove stop words\n",
    "    words = [w for w in tokens if w not in STOPWORDS]\n",
    "    \n",
    "    #4. Lemmatize \n",
    "    lemmed_words = [lemmatizer.lemmatize(w) for w in words]\n",
    "    \n",
    "    clean_tokens = []\n",
    "    \n",
    "    for i in lemmed_words:\n",
    "        clean_tokens.append(i)\n",
    "        \n",
    "        ## back to string from list\n",
    "    text = \" \".join(clean_tokens)\n",
    "    return text"
   ]
  },
  {
   "cell_type": "code",
   "execution_count": 31,
   "id": "7ad3ed18",
   "metadata": {
    "ExecuteTime": {
     "end_time": "2021-10-11T13:20:58.053880Z",
     "start_time": "2021-10-11T13:18:54.004037Z"
    }
   },
   "outputs": [],
   "source": [
    "email['cleantext']=email['content'].apply(lambda x: tokenize(x))"
   ]
  },
  {
   "cell_type": "code",
   "execution_count": 32,
   "id": "286edbd0",
   "metadata": {
    "ExecuteTime": {
     "end_time": "2021-10-11T13:20:58.086129Z",
     "start_time": "2021-10-11T13:20:58.053880Z"
    }
   },
   "outputs": [
    {
     "data": {
      "text/html": [
       "<div>\n",
       "<style scoped>\n",
       "    .dataframe tbody tr th:only-of-type {\n",
       "        vertical-align: middle;\n",
       "    }\n",
       "\n",
       "    .dataframe tbody tr th {\n",
       "        vertical-align: top;\n",
       "    }\n",
       "\n",
       "    .dataframe thead th {\n",
       "        text-align: right;\n",
       "    }\n",
       "</style>\n",
       "<table border=\"1\" class=\"dataframe\">\n",
       "  <thead>\n",
       "    <tr style=\"text-align: right;\">\n",
       "      <th></th>\n",
       "      <th>content</th>\n",
       "      <th>Class</th>\n",
       "      <th>Char_length</th>\n",
       "      <th>Word_count</th>\n",
       "      <th>cleantext</th>\n",
       "    </tr>\n",
       "  </thead>\n",
       "  <tbody>\n",
       "    <tr>\n",
       "      <th>0</th>\n",
       "      <td>eat shit\\n\\n\\n\\n\\nJohn J Lavorato@excelr\\n11/1...</td>\n",
       "      <td>0</td>\n",
       "      <td>220</td>\n",
       "      <td>44</td>\n",
       "      <td>eat shit john j lavorato excelr pm john arnold...</td>\n",
       "    </tr>\n",
       "    <tr>\n",
       "      <th>1</th>\n",
       "      <td>fuck you</td>\n",
       "      <td>0</td>\n",
       "      <td>8</td>\n",
       "      <td>2</td>\n",
       "      <td>fuck</td>\n",
       "    </tr>\n",
       "    <tr>\n",
       "      <th>2</th>\n",
       "      <td>Gentlemen:\\nThe following champagne is availab...</td>\n",
       "      <td>0</td>\n",
       "      <td>612</td>\n",
       "      <td>99</td>\n",
       "      <td>gentleman following champagne available approx...</td>\n",
       "    </tr>\n",
       "    <tr>\n",
       "      <th>3</th>\n",
       "      <td>sorry i've taken so long...just been trying to...</td>\n",
       "      <td>0</td>\n",
       "      <td>505</td>\n",
       "      <td>163</td>\n",
       "      <td>sorry taken long trying fend chick life sooooo...</td>\n",
       "    </tr>\n",
       "    <tr>\n",
       "      <th>4</th>\n",
       "      <td>asshole\\n\\n\\n\\n\\nJohn J Lavorato@excelr\\n12/23...</td>\n",
       "      <td>0</td>\n",
       "      <td>203</td>\n",
       "      <td>42</td>\n",
       "      <td>asshole john j lavorato excelr john arnold hou...</td>\n",
       "    </tr>\n",
       "    <tr>\n",
       "      <th>...</th>\n",
       "      <td>...</td>\n",
       "      <td>...</td>\n",
       "      <td>...</td>\n",
       "      <td>...</td>\n",
       "      <td>...</td>\n",
       "    </tr>\n",
       "    <tr>\n",
       "      <th>47974</th>\n",
       "      <td>Do you need new leads for your business ?\\n D...</td>\n",
       "      <td>1</td>\n",
       "      <td>1523</td>\n",
       "      <td>255</td>\n",
       "      <td>need new lead business need increased internet...</td>\n",
       "    </tr>\n",
       "    <tr>\n",
       "      <th>47975</th>\n",
       "      <td>[IMAGE]\\n  [IMAGE]     [IMAGE] GARTH BROOKS  \"...</td>\n",
       "      <td>1</td>\n",
       "      <td>1126</td>\n",
       "      <td>244</td>\n",
       "      <td>image image image garth brook wrapped image im...</td>\n",
       "    </tr>\n",
       "    <tr>\n",
       "      <th>47977</th>\n",
       "      <td>\\n[IMAGE][IMAGE][IMAGE] \\nDear SmartReminders ...</td>\n",
       "      <td>1</td>\n",
       "      <td>892</td>\n",
       "      <td>164</td>\n",
       "      <td>image image image dear smartreminders member i...</td>\n",
       "    </tr>\n",
       "    <tr>\n",
       "      <th>47980</th>\n",
       "      <td>\\n[IMAGE]\\n  [IMAGE]   [IMAGE]    [IMAGE] KID ...</td>\n",
       "      <td>1</td>\n",
       "      <td>932</td>\n",
       "      <td>189</td>\n",
       "      <td>image image image image kid rock forever image...</td>\n",
       "    </tr>\n",
       "    <tr>\n",
       "      <th>47981</th>\n",
       "      <td>\\nYou received this e-mail because you registe...</td>\n",
       "      <td>1</td>\n",
       "      <td>4289</td>\n",
       "      <td>897</td>\n",
       "      <td>received e mail registered e trade web site on...</td>\n",
       "    </tr>\n",
       "  </tbody>\n",
       "</table>\n",
       "<p>24656 rows × 5 columns</p>\n",
       "</div>"
      ],
      "text/plain": [
       "                                                 content  Class  Char_length  \\\n",
       "0      eat shit\\n\\n\\n\\n\\nJohn J Lavorato@excelr\\n11/1...      0          220   \n",
       "1                                               fuck you      0            8   \n",
       "2      Gentlemen:\\nThe following champagne is availab...      0          612   \n",
       "3      sorry i've taken so long...just been trying to...      0          505   \n",
       "4      asshole\\n\\n\\n\\n\\nJohn J Lavorato@excelr\\n12/23...      0          203   \n",
       "...                                                  ...    ...          ...   \n",
       "47974   Do you need new leads for your business ?\\n D...      1         1523   \n",
       "47975  [IMAGE]\\n  [IMAGE]     [IMAGE] GARTH BROOKS  \"...      1         1126   \n",
       "47977  \\n[IMAGE][IMAGE][IMAGE] \\nDear SmartReminders ...      1          892   \n",
       "47980  \\n[IMAGE]\\n  [IMAGE]   [IMAGE]    [IMAGE] KID ...      1          932   \n",
       "47981  \\nYou received this e-mail because you registe...      1         4289   \n",
       "\n",
       "       Word_count                                          cleantext  \n",
       "0              44  eat shit john j lavorato excelr pm john arnold...  \n",
       "1               2                                               fuck  \n",
       "2              99  gentleman following champagne available approx...  \n",
       "3             163  sorry taken long trying fend chick life sooooo...  \n",
       "4              42  asshole john j lavorato excelr john arnold hou...  \n",
       "...           ...                                                ...  \n",
       "47974         255  need new lead business need increased internet...  \n",
       "47975         244  image image image garth brook wrapped image im...  \n",
       "47977         164  image image image dear smartreminders member i...  \n",
       "47980         189  image image image image kid rock forever image...  \n",
       "47981         897  received e mail registered e trade web site on...  \n",
       "\n",
       "[24656 rows x 5 columns]"
      ]
     },
     "execution_count": 32,
     "metadata": {},
     "output_type": "execute_result"
    }
   ],
   "source": [
    "email"
   ]
  },
  {
   "cell_type": "code",
   "execution_count": 33,
   "id": "0e387366",
   "metadata": {
    "ExecuteTime": {
     "end_time": "2021-10-11T13:20:58.099809Z",
     "start_time": "2021-10-11T13:20:58.088615Z"
    }
   },
   "outputs": [],
   "source": [
    "# assigning the independent features to X and the target variable to y\n",
    "X = email.iloc[:,4]\n",
    "y = email.iloc[:,1]"
   ]
  },
  {
   "cell_type": "code",
   "execution_count": 34,
   "id": "918cac9c",
   "metadata": {
    "ExecuteTime": {
     "end_time": "2021-10-11T13:20:58.114036Z",
     "start_time": "2021-10-11T13:20:58.101831Z"
    }
   },
   "outputs": [
    {
     "data": {
      "text/plain": [
       "0    eat shit john j lavorato excelr pm john arnold...\n",
       "1                                                 fuck\n",
       "2    gentleman following champagne available approx...\n",
       "3    sorry taken long trying fend chick life sooooo...\n",
       "4    asshole john j lavorato excelr john arnold hou...\n",
       "Name: cleantext, dtype: object"
      ]
     },
     "execution_count": 34,
     "metadata": {},
     "output_type": "execute_result"
    }
   ],
   "source": [
    "X.head()"
   ]
  },
  {
   "cell_type": "code",
   "execution_count": 35,
   "id": "2df1c45e",
   "metadata": {
    "ExecuteTime": {
     "end_time": "2021-10-11T13:20:58.129793Z",
     "start_time": "2021-10-11T13:20:58.118407Z"
    }
   },
   "outputs": [
    {
     "data": {
      "text/plain": [
       "0    0\n",
       "1    0\n",
       "2    0\n",
       "3    0\n",
       "4    0\n",
       "Name: Class, dtype: int32"
      ]
     },
     "execution_count": 35,
     "metadata": {},
     "output_type": "execute_result"
    }
   ],
   "source": [
    "y.head()"
   ]
  },
  {
   "cell_type": "code",
   "execution_count": 36,
   "id": "18939e04",
   "metadata": {
    "ExecuteTime": {
     "end_time": "2021-10-11T13:20:58.145085Z",
     "start_time": "2021-10-11T13:20:58.130791Z"
    }
   },
   "outputs": [
    {
     "data": {
      "text/plain": [
       "pandas.core.series.Series"
      ]
     },
     "execution_count": 36,
     "metadata": {},
     "output_type": "execute_result"
    }
   ],
   "source": [
    "type(X)"
   ]
  },
  {
   "cell_type": "markdown",
   "id": "9b276180",
   "metadata": {},
   "source": [
    "# Data Balancing"
   ]
  },
  {
   "cell_type": "code",
   "execution_count": 37,
   "id": "d4cbef2b",
   "metadata": {
    "ExecuteTime": {
     "end_time": "2021-10-11T13:20:58.153626Z",
     "start_time": "2021-10-11T13:20:58.146709Z"
    }
   },
   "outputs": [],
   "source": [
    "# Converting X from series to 2D array\n",
    "# This step being done as smote considers only 2D array as input\n",
    "X=X.values.reshape(-1,1)"
   ]
  },
  {
   "cell_type": "code",
   "execution_count": 38,
   "id": "431e5bb0",
   "metadata": {
    "ExecuteTime": {
     "end_time": "2021-10-11T13:20:59.648651Z",
     "start_time": "2021-10-11T13:20:58.155304Z"
    }
   },
   "outputs": [],
   "source": [
    "from imblearn.over_sampling import SMOTEN\n",
    "oversample= SMOTEN(sampling_strategy=0.33)\n",
    "X1,y1=oversample.fit_resample(X,y)"
   ]
  },
  {
   "cell_type": "code",
   "execution_count": 39,
   "id": "5248cf42",
   "metadata": {
    "ExecuteTime": {
     "end_time": "2021-10-11T13:20:59.676960Z",
     "start_time": "2021-10-11T13:20:59.648651Z"
    }
   },
   "outputs": [
    {
     "name": "stdout",
     "output_type": "stream",
     "text": [
      "Counter({1: 23014, 0: 1642})\n"
     ]
    }
   ],
   "source": [
    "from collections import Counter\n",
    "print(Counter(y))"
   ]
  },
  {
   "cell_type": "code",
   "execution_count": 40,
   "id": "4789ec3a",
   "metadata": {
    "ExecuteTime": {
     "end_time": "2021-10-11T13:20:59.707567Z",
     "start_time": "2021-10-11T13:20:59.677961Z"
    }
   },
   "outputs": [
    {
     "name": "stdout",
     "output_type": "stream",
     "text": [
      "Counter({1: 23014, 0: 7594})\n"
     ]
    }
   ],
   "source": [
    "print(Counter(y1))"
   ]
  },
  {
   "cell_type": "markdown",
   "id": "009eead5",
   "metadata": {},
   "source": [
    "# Split the dataset into Training and Testing datasets"
   ]
  },
  {
   "cell_type": "code",
   "execution_count": 41,
   "id": "80453288",
   "metadata": {
    "ExecuteTime": {
     "end_time": "2021-10-11T13:20:59.723619Z",
     "start_time": "2021-10-11T13:20:59.709510Z"
    }
   },
   "outputs": [],
   "source": [
    "from sklearn.model_selection import train_test_split"
   ]
  },
  {
   "cell_type": "code",
   "execution_count": 42,
   "id": "331fd208",
   "metadata": {
    "ExecuteTime": {
     "end_time": "2021-10-11T13:20:59.751157Z",
     "start_time": "2021-10-11T13:20:59.725263Z"
    }
   },
   "outputs": [
    {
     "name": "stdout",
     "output_type": "stream",
     "text": [
      "Shape of training data: (21425, 1)\n",
      "Shape of testing data: (9183, 1)\n"
     ]
    }
   ],
   "source": [
    "X_train, X_test, y_train, y_test = train_test_split(X1, y1, test_size=0.3,random_state=42)\n",
    "\n",
    "print('Shape of training data:',(X_train.shape))\n",
    "print('Shape of testing data:',(X_test.shape))"
   ]
  },
  {
   "cell_type": "code",
   "execution_count": 43,
   "id": "ae51a831",
   "metadata": {
    "ExecuteTime": {
     "end_time": "2021-10-11T13:20:59.774954Z",
     "start_time": "2021-10-11T13:20:59.752164Z"
    }
   },
   "outputs": [
    {
     "name": "stdout",
     "output_type": "stream",
     "text": [
      "<class 'numpy.ndarray'>\n",
      "Dimension of X_train: 2\n"
     ]
    }
   ],
   "source": [
    "print(type(X_train))\n",
    "print('Dimension of X_train:',X_train.ndim)"
   ]
  },
  {
   "cell_type": "code",
   "execution_count": 44,
   "id": "31c37c16",
   "metadata": {
    "ExecuteTime": {
     "end_time": "2021-10-11T13:20:59.783916Z",
     "start_time": "2021-10-11T13:20:59.778153Z"
    }
   },
   "outputs": [],
   "source": [
    "# Converting 2D array to 1D array\n",
    "x_train= X_train.ravel()\n",
    "x_test= X_test.ravel()"
   ]
  },
  {
   "cell_type": "code",
   "execution_count": 45,
   "id": "f9df1160",
   "metadata": {
    "ExecuteTime": {
     "end_time": "2021-10-11T13:20:59.801058Z",
     "start_time": "2021-10-11T13:20:59.788666Z"
    }
   },
   "outputs": [
    {
     "name": "stdout",
     "output_type": "stream",
     "text": [
      "Dimension of x_train: 1\n"
     ]
    }
   ],
   "source": [
    "print('Dimension of x_train:',x_train.ndim)"
   ]
  },
  {
   "cell_type": "markdown",
   "id": "1669bcfd",
   "metadata": {},
   "source": [
    "# CountVectorizer - Feature Extraction"
   ]
  },
  {
   "cell_type": "code",
   "execution_count": 46,
   "id": "74d57e80",
   "metadata": {
    "ExecuteTime": {
     "end_time": "2021-10-11T13:20:59.814670Z",
     "start_time": "2021-10-11T13:20:59.805326Z"
    }
   },
   "outputs": [],
   "source": [
    "from sklearn.feature_extraction.text import CountVectorizer, TfidfVectorizer\n",
    "cv = CountVectorizer()\n",
    "tfidf= TfidfVectorizer(max_features=10000)"
   ]
  },
  {
   "cell_type": "code",
   "execution_count": 47,
   "id": "5957cb14",
   "metadata": {
    "ExecuteTime": {
     "end_time": "2021-10-11T13:21:08.191302Z",
     "start_time": "2021-10-11T13:20:59.816269Z"
    }
   },
   "outputs": [],
   "source": [
    "x_train= tfidf.fit_transform(x_train).toarray()"
   ]
  },
  {
   "cell_type": "code",
   "execution_count": 48,
   "id": "e784f268",
   "metadata": {
    "ExecuteTime": {
     "end_time": "2021-10-11T13:21:11.723688Z",
     "start_time": "2021-10-11T13:21:08.197905Z"
    }
   },
   "outputs": [],
   "source": [
    "x_test = tfidf.transform(x_test).toarray()"
   ]
  },
  {
   "cell_type": "code",
   "execution_count": 49,
   "id": "b8ddb8bc",
   "metadata": {
    "ExecuteTime": {
     "end_time": "2021-10-11T13:21:11.833990Z",
     "start_time": "2021-10-11T13:21:11.742283Z"
    }
   },
   "outputs": [
    {
     "data": {
      "text/plain": [
       "(21425, 10000)"
      ]
     },
     "execution_count": 49,
     "metadata": {},
     "output_type": "execute_result"
    }
   ],
   "source": [
    "x_train.shape"
   ]
  },
  {
   "cell_type": "markdown",
   "id": "c834b8a1",
   "metadata": {},
   "source": [
    "# Model Building"
   ]
  },
  {
   "cell_type": "markdown",
   "id": "6106204a",
   "metadata": {},
   "source": [
    "# Decision Tree"
   ]
  },
  {
   "cell_type": "code",
   "execution_count": 59,
   "id": "c0d8b00b",
   "metadata": {
    "ExecuteTime": {
     "end_time": "2021-10-11T13:29:21.294281Z",
     "start_time": "2021-10-11T13:29:21.261829Z"
    }
   },
   "outputs": [],
   "source": [
    "from sklearn.tree import  DecisionTreeClassifier\n",
    "from sklearn import tree\n",
    "from sklearn.metrics import accuracy_score\n",
    "from sklearn.metrics import classification_report\n",
    "from sklearn.metrics import confusion_matrix"
   ]
  },
  {
   "cell_type": "code",
   "execution_count": 60,
   "id": "0e51265e",
   "metadata": {
    "ExecuteTime": {
     "end_time": "2021-10-11T13:42:28.134944Z",
     "start_time": "2021-10-11T13:29:24.296174Z"
    }
   },
   "outputs": [
    {
     "name": "stdout",
     "output_type": "stream",
     "text": [
      "Accuracy: 0.98\n",
      "Other Metrics:\n",
      "              precision    recall  f1-score   support\n",
      "\n",
      "           0       0.95      0.95      0.95      2294\n",
      "           1       0.98      0.98      0.98      6889\n",
      "\n",
      "    accuracy                           0.98      9183\n",
      "   macro avg       0.97      0.97      0.97      9183\n",
      "weighted avg       0.98      0.98      0.98      9183\n",
      "\n"
     ]
    }
   ],
   "source": [
    "clf2= tree.DecisionTreeClassifier()\n",
    "clf2.fit(x_train,y_train)\n",
    "y_pred = clf2.predict(x_test)\n",
    "accuracy = accuracy_score(y_test, y_pred)\n",
    "\n",
    "print(\"Accuracy:\",  round(accuracy,2))\n",
    "\n",
    "print(\"Other Metrics:\")\n",
    "print(classification_report(y_test, y_pred))"
   ]
  },
  {
   "cell_type": "code",
   "execution_count": 61,
   "id": "5dea6139",
   "metadata": {
    "ExecuteTime": {
     "end_time": "2021-10-11T13:42:53.798429Z",
     "start_time": "2021-10-11T13:42:53.732675Z"
    }
   },
   "outputs": [
    {
     "name": "stdout",
     "output_type": "stream",
     "text": [
      "[[2189  105]\n",
      " [ 121 6768]]\n"
     ]
    }
   ],
   "source": [
    "print(confusion_matrix(y_test, y_pred))"
   ]
  },
  {
   "cell_type": "code",
   "execution_count": null,
   "id": "810f09f5",
   "metadata": {},
   "outputs": [],
   "source": [
    "import pickle\n",
    "pickle.dump(tfidf,open('vector.pkl','wb'))\n",
    "pickle.dump(clf5,open('dec_model.pkl','wb'))"
   ]
  },
  {
   "cell_type": "markdown",
   "id": "958af534",
   "metadata": {},
   "source": [
    "# Logistic Regression"
   ]
  },
  {
   "cell_type": "code",
   "execution_count": 52,
   "id": "021c73a1",
   "metadata": {
    "ExecuteTime": {
     "end_time": "2021-10-11T13:21:11.908879Z",
     "start_time": "2021-10-11T13:21:11.884969Z"
    }
   },
   "outputs": [],
   "source": [
    "from sklearn.linear_model import LogisticRegression\n",
    "from sklearn.metrics import accuracy_score\n",
    "from sklearn.metrics import classification_report\n",
    "from sklearn.metrics import confusion_matrix"
   ]
  },
  {
   "cell_type": "code",
   "execution_count": 53,
   "id": "5d47a899",
   "metadata": {
    "ExecuteTime": {
     "end_time": "2021-10-11T13:21:43.565394Z",
     "start_time": "2021-10-11T13:21:11.911139Z"
    }
   },
   "outputs": [
    {
     "name": "stdout",
     "output_type": "stream",
     "text": [
      "Accuracy: 0.97\n",
      "Other Metrics:\n",
      "              precision    recall  f1-score   support\n",
      "\n",
      "           0       1.00      0.88      0.94      2294\n",
      "           1       0.96      1.00      0.98      6889\n",
      "\n",
      "    accuracy                           0.97      9183\n",
      "   macro avg       0.98      0.94      0.96      9183\n",
      "weighted avg       0.97      0.97      0.97      9183\n",
      "\n"
     ]
    }
   ],
   "source": [
    "clf5= LogisticRegression(max_iter=2000)\n",
    "clf5.fit(x_train,y_train)\n",
    "y_pred = clf5.predict(x_test)\n",
    "accuracy = accuracy_score(y_test, y_pred)\n",
    "\n",
    "print(\"Accuracy:\",  round(accuracy,2))\n",
    "\n",
    "print(\"Other Metrics:\")\n",
    "print(classification_report(y_test, y_pred))"
   ]
  },
  {
   "cell_type": "code",
   "execution_count": 54,
   "id": "83227a23",
   "metadata": {
    "ExecuteTime": {
     "end_time": "2021-10-11T13:21:43.683190Z",
     "start_time": "2021-10-11T13:21:43.574113Z"
    }
   },
   "outputs": [
    {
     "name": "stdout",
     "output_type": "stream",
     "text": [
      "[[2028  266]\n",
      " [   5 6884]]\n"
     ]
    }
   ],
   "source": [
    "print(confusion_matrix(y_test, y_pred))"
   ]
  },
  {
   "cell_type": "code",
   "execution_count": 56,
   "id": "92e1d9ea",
   "metadata": {
    "ExecuteTime": {
     "end_time": "2021-10-11T13:22:32.249963Z",
     "start_time": "2021-10-11T13:22:32.114043Z"
    }
   },
   "outputs": [],
   "source": [
    "import pickle\n",
    "pickle.dump(tfidf,open('vectors.pkl','wb'))\n",
    "pickle.dump(clf5,open('Lin_model.pkl','wb'))"
   ]
  }
 ],
 "metadata": {
  "kernelspec": {
   "display_name": "Python 3",
   "language": "python",
   "name": "python3"
  },
  "language_info": {
   "codemirror_mode": {
    "name": "ipython",
    "version": 3
   },
   "file_extension": ".py",
   "mimetype": "text/x-python",
   "name": "python",
   "nbconvert_exporter": "python",
   "pygments_lexer": "ipython3",
   "version": "3.8.8"
  },
  "varInspector": {
   "cols": {
    "lenName": 16,
    "lenType": 16,
    "lenVar": 40
   },
   "kernels_config": {
    "python": {
     "delete_cmd_postfix": "",
     "delete_cmd_prefix": "del ",
     "library": "var_list.py",
     "varRefreshCmd": "print(var_dic_list())"
    },
    "r": {
     "delete_cmd_postfix": ") ",
     "delete_cmd_prefix": "rm(",
     "library": "var_list.r",
     "varRefreshCmd": "cat(var_dic_list()) "
    }
   },
   "types_to_exclude": [
    "module",
    "function",
    "builtin_function_or_method",
    "instance",
    "_Feature"
   ],
   "window_display": false
  }
 },
 "nbformat": 4,
 "nbformat_minor": 5
}
